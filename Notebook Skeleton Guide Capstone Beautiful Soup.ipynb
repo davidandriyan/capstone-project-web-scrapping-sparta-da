{
 "cells": [
  {
   "cell_type": "markdown",
   "metadata": {},
   "source": [
    "# Capstone Webscrapping using BeautifulSoup\n",
    "\n",
    "This notebook contains guidances & tasks on the data processing for the application\n",
    "\n",
    "## background\n",
    "\n",
    "This module was developed as one of the Capstone Project from Algoritma Academy. In this module, we will learn to do simple Webscrapping using BeautifulSoup which is one of the libraries from Python. As an exercise, we will use US Dollar to Rupiah exchange rate data from https://www.exchange-rates.org/history/IDR/USD/T to plot the USD movement and display the result in the Flask Dashboard.\n",
    "\n",
    "## Requesting the Data and Creating a BeautifulSoup\n",
    "\n",
    "Let's begin with requesting the web from the site with `get` method."
   ]
  },
  {
   "cell_type": "code",
   "execution_count": 312,
   "metadata": {
    "ExecuteTime": {
     "end_time": "2020-01-13T05:12:23.275508Z",
     "start_time": "2020-01-13T05:12:20.009898Z"
    }
   },
   "outputs": [],
   "source": [
    "import requests\n",
    "\n",
    "url_get = requests.get('https://www.exchange-rates.org/history/IDR/USD/T')"
   ]
  },
  {
   "cell_type": "markdown",
   "metadata": {},
   "source": [
    "To visualize what exactly we get from the `request.get`, we can use .content to see what we exactly get, here I slice it so it won't make our screen full of the html we get from the page. You can delete the slicing if you want to see what we fully get."
   ]
  },
  {
   "cell_type": "code",
   "execution_count": 313,
   "metadata": {
    "ExecuteTime": {
     "end_time": "2020-01-13T05:12:23.290648Z",
     "start_time": "2020-01-13T05:12:23.277650Z"
    }
   },
   "outputs": [
    {
     "data": {
      "text/plain": [
       "b'!DOCTYPE html>\\r\\n<!--[if lt IE 9]>\\r\\n<html class=\"no-js ie8 oldie\" lang=\"en\" xml:lang=\\'en\\'>\\r\\n<![endif]-->\\r\\n<!--[if gt IE 8]><!--><html class=\"no-js\" lang=\"en\" xml:lang=\\'en\\'><!--<![endif]-->\\r\\n<head>\\r\\n<title>Indonesian Rupiah Exchange Rate - US Dollar - Historical Exchange Rates</title>\\r\\n<meta http-equiv=\"X-UA-Compatible\" content=\"IE=edge\">\\r\\n<meta name=\"viewport\" content=\"width=device-width, initial-scale=1, maximum-scale=5\">\\r\\n<meta charset=\"utf-8\" /><meta http-equiv=\"Content-Type\" content=\"text/ht'"
      ]
     },
     "execution_count": 313,
     "metadata": {},
     "output_type": "execute_result"
    }
   ],
   "source": [
    "url_get.content[1:500]"
   ]
  },
  {
   "cell_type": "markdown",
   "metadata": {},
   "source": [
    "As we can see we get a very unstructured and complex html, which actually contains the codes needed to show the webpages on your web browser. But we as human still confused what and where we can use that piece of code, so here where we use the beautifulsoup. Beautiful soup class will result a beautifulsoup object. Beautiful Soup transforms a complex HTML document into a complex tree of Python objects. \n",
    "\n",
    "Let's make Beautiful soup object and feel free to explore the object here."
   ]
  },
  {
   "cell_type": "code",
   "execution_count": 314,
   "metadata": {
    "ExecuteTime": {
     "end_time": "2020-01-13T05:12:23.808122Z",
     "start_time": "2020-01-13T05:12:23.292610Z"
    }
   },
   "outputs": [
    {
     "name": "stdout",
     "output_type": "stream",
     "text": [
      "<class 'bs4.BeautifulSoup'>\n"
     ]
    }
   ],
   "source": [
    "from bs4 import BeautifulSoup \n",
    "\n",
    "soup = BeautifulSoup(url_get.content,\"html.parser\")\n",
    "print(type(soup))"
   ]
  },
  {
   "cell_type": "markdown",
   "metadata": {},
   "source": [
    "## Finding the right key to scrap the data & Extracting the right information"
   ]
  },
  {
   "cell_type": "markdown",
   "metadata": {},
   "source": [
    "Find the key and put the key into the `.find()` Put all the exploring the right key at this cell. (please change this markdown with your explanation)"
   ]
  },
  {
   "cell_type": "code",
   "execution_count": 315,
   "metadata": {
    "ExecuteTime": {
     "end_time": "2020-01-13T05:12:23.878904Z",
     "start_time": "2020-01-13T05:12:23.854974Z"
    },
    "scrolled": true
   },
   "outputs": [
    {
     "name": "stdout",
     "output_type": "stream",
     "text": [
      "table class=\"table table-striped table-hover table-hover-solid-row table-simple history-data\">\n",
      " <tbody>\n",
      "  <tr>\n",
      "   <td>\n",
      "    7/8/2022\n",
      "   </td>\n",
      "   <td>\n",
      "    Friday\n",
      "   </td>\n",
      "   <td>\n",
      "    <a href=\"/Rate/USD/IDR/7-8-2022\">\n",
      "     14,976.95000\n",
      "    </a>\n",
      "    IDR\n",
      "   </td>\n",
      "   <td class=\"text-narrow-screen-hidden\">\n",
      "    <a href=\"/Rate/USD/IDR/7-8-2022\">\n",
      "     USD IDR rate for 7/8/2022\n",
      "    </a>\n",
      "   </td>\n",
      "  </tr>\n",
      "  <tr>\n",
      "   <td>\n",
      "    7/7/2022\n",
      "   </td>\n",
      "   <td>\n",
      "    Thursday\n",
      "   </td>\n",
      "   <td>\n",
      "    <a href=\"/Rate/USD/IDR/7\n"
     ]
    }
   ],
   "source": [
    "table = soup.find('table', attrs={'class':'table table-striped table-hover table-hover-solid-row table-simple history-data'})\n",
    "print(table.prettify()[1:500])"
   ]
  },
  {
   "cell_type": "code",
   "execution_count": 316,
   "metadata": {},
   "outputs": [
    {
     "data": {
      "text/plain": [
       "[<tr><td>7/8/2022</td><td>Friday</td><td><a href=\"/Rate/USD/IDR/7-8-2022\">14,976.95000</a> IDR</td><td class=\"text-narrow-screen-hidden\"><a href=\"/Rate/USD/IDR/7-8-2022\">USD IDR rate for 7/8/2022</a></td></tr>,\n",
       " <tr><td>7/7/2022</td><td>Thursday</td><td><a href=\"/Rate/USD/IDR/7-7-2022\">14,964.65000</a> IDR</td><td class=\"text-narrow-screen-hidden\"><a href=\"/Rate/USD/IDR/7-7-2022\">USD IDR rate for 7/7/2022</a></td></tr>,\n",
       " <tr><td>7/6/2022</td><td>Wednesday</td><td><a href=\"/Rate/USD/IDR/7-6-2022\">14,996.82520</a> IDR</td><td class=\"text-narrow-screen-hidden\"><a href=\"/Rate/USD/IDR/7-6-2022\">USD IDR rate for 7/6/2022</a></td></tr>,\n",
       " <tr><td>7/5/2022</td><td>Tuesday</td><td><a href=\"/Rate/USD/IDR/7-5-2022\">15,014.65000</a> IDR</td><td class=\"text-narrow-screen-hidden\"><a href=\"/Rate/USD/IDR/7-5-2022\">USD IDR rate for 7/5/2022</a></td></tr>,\n",
       " <tr><td>7/4/2022</td><td>Monday</td><td><a href=\"/Rate/USD/IDR/7-4-2022\">14,994.55000</a> IDR</td><td class=\"text-narrow-screen-hidden\"><a href=\"/Rate/USD/IDR/7-4-2022\">USD IDR rate for 7/4/2022</a></td></tr>]"
      ]
     },
     "execution_count": 316,
     "metadata": {},
     "output_type": "execute_result"
    }
   ],
   "source": [
    "table.find_all('tr')[:5]"
   ]
  },
  {
   "cell_type": "markdown",
   "metadata": {},
   "source": [
    "Finding row length."
   ]
  },
  {
   "cell_type": "code",
   "execution_count": 317,
   "metadata": {},
   "outputs": [
    {
     "data": {
      "text/plain": [
       "130"
      ]
     },
     "execution_count": 317,
     "metadata": {},
     "output_type": "execute_result"
    }
   ],
   "source": [
    "row = table.find_all('tr')\n",
    "row_length = len(row)\n",
    "row_length"
   ]
  },
  {
   "cell_type": "markdown",
   "metadata": {},
   "source": [
    "Do the scrapping process here \n",
    "\n",
    "After knowing the length of the data, the next step is to perform the looping process. The goal is to get the data that we need. Here are the steps to perform the looping process:\n",
    "\n",
    "- First we need to establish a placeholder to receive the information that we scrap. \n",
    "- We named our placeholder `temp` and it's a list. \n",
    "- Then we will make a loop from one until the the length of the table row, \n",
    "- which we will find all cell of the column one and two which contain date and the exchange rate. \n",
    "- Then we will append it to our tuple that we prepared before, \n",
    "- every one iteration we will scrap one line of the table.  "
   ]
  },
  {
   "cell_type": "code",
   "execution_count": 318,
   "metadata": {
    "ExecuteTime": {
     "end_time": "2020-01-13T05:12:24.008256Z",
     "start_time": "2020-01-13T05:12:23.980358Z"
    },
    "scrolled": false
   },
   "outputs": [
    {
     "data": {
      "text/plain": [
       "[('7/8/2022', 'Friday', '14,976.95000 IDR'),\n",
       " ('7/7/2022', 'Thursday', '14,964.65000 IDR'),\n",
       " ('7/6/2022', 'Wednesday', '14,996.82520 IDR'),\n",
       " ('7/5/2022', 'Tuesday', '15,014.65000 IDR'),\n",
       " ('7/4/2022', 'Monday', '14,994.55000 IDR'),\n",
       " ('7/1/2022', 'Friday', '14,975.15000 IDR'),\n",
       " ('6/30/2022', 'Thursday', '14,928.80000 IDR'),\n",
       " ('6/29/2022', 'Wednesday', '14,868.90000 IDR'),\n",
       " ('6/28/2022', 'Tuesday', '14,852.35000 IDR'),\n",
       " ('6/27/2022', 'Monday', '14,807.70000 IDR'),\n",
       " ('6/24/2022', 'Friday', '14,829.50000 IDR'),\n",
       " ('6/23/2022', 'Thursday', '14,848.80000 IDR'),\n",
       " ('6/22/2022', 'Wednesday', '14,833.90000 IDR'),\n",
       " ('6/21/2022', 'Tuesday', '14,833.60000 IDR'),\n",
       " ('6/20/2022', 'Monday', '14,827.75000 IDR'),\n",
       " ('6/17/2022', 'Friday', '14,838.85000 IDR'),\n",
       " ('6/16/2022', 'Thursday', '14,809.20000 IDR'),\n",
       " ('6/15/2022', 'Wednesday', '14,695.10000 IDR'),\n",
       " ('6/14/2022', 'Tuesday', '14,764.20000 IDR'),\n",
       " ('6/13/2022', 'Monday', '14,782.80000 IDR'),\n",
       " ('6/10/2022', 'Friday', '14,614.95000 IDR'),\n",
       " ('6/9/2022', 'Thursday', '14,611.85000 IDR'),\n",
       " ('6/8/2022', 'Wednesday', '14,513.20000 IDR'),\n",
       " ('6/7/2022', 'Tuesday', '14,465.30000 IDR'),\n",
       " ('6/6/2022', 'Monday', '14,437.70000 IDR'),\n",
       " ('6/3/2022', 'Friday', '14,433.50000 IDR'),\n",
       " ('6/2/2022', 'Thursday', '14,435.00000 IDR'),\n",
       " ('6/1/2022', 'Wednesday', '14,555.60000 IDR'),\n",
       " ('5/31/2022', 'Tuesday', '14,580.63428 IDR'),\n",
       " ('5/30/2022', 'Monday', '14,538.55000 IDR'),\n",
       " ('5/27/2022', 'Friday', '14,539.40000 IDR'),\n",
       " ('5/26/2022', 'Thursday', '14,610.10000 IDR'),\n",
       " ('5/25/2022', 'Wednesday', '14,632.75000 IDR'),\n",
       " ('5/24/2022', 'Tuesday', '14,635.75000 IDR'),\n",
       " ('5/23/2022', 'Monday', '14,625.70000 IDR'),\n",
       " ('5/20/2022', 'Friday', '14,672.44395 IDR'),\n",
       " ('5/19/2022', 'Thursday', '14,632.60000 IDR'),\n",
       " ('5/18/2022', 'Wednesday', '14,740.05000 IDR'),\n",
       " ('5/17/2022', 'Tuesday', '14,630.65000 IDR'),\n",
       " ('5/16/2022', 'Monday', '14,647.20000 IDR'),\n",
       " ('5/13/2022', 'Friday', '14,665.95000 IDR'),\n",
       " ('5/12/2022', 'Thursday', '14,667.00000 IDR'),\n",
       " ('5/11/2022', 'Wednesday', '14,545.90000 IDR'),\n",
       " ('5/10/2022', 'Tuesday', '14,526.40000 IDR'),\n",
       " ('5/9/2022', 'Monday', '14,552.25000 IDR'),\n",
       " ('5/6/2022', 'Friday', '14,498.65000 IDR'),\n",
       " ('5/5/2022', 'Thursday', '14,458.75000 IDR'),\n",
       " ('5/4/2022', 'Wednesday', '14,430.00000 IDR'),\n",
       " ('5/3/2022', 'Tuesday', '14,455.80000 IDR'),\n",
       " ('5/2/2022', 'Monday', '14,526.60000 IDR'),\n",
       " ('4/29/2022', 'Friday', '14,525.10000 IDR'),\n",
       " ('4/28/2022', 'Thursday', '14,516.00000 IDR'),\n",
       " ('4/27/2022', 'Wednesday', '14,447.55000 IDR'),\n",
       " ('4/26/2022', 'Tuesday', '14,432.50000 IDR'),\n",
       " ('4/25/2022', 'Monday', '14,426.50000 IDR'),\n",
       " ('4/22/2022', 'Friday', '14,470.00000 IDR'),\n",
       " ('4/21/2022', 'Thursday', '14,386.00000 IDR'),\n",
       " ('4/20/2022', 'Wednesday', '14,364.00000 IDR'),\n",
       " ('4/19/2022', 'Tuesday', '14,375.50000 IDR'),\n",
       " ('4/18/2022', 'Monday', '14,353.85000 IDR'),\n",
       " ('4/15/2022', 'Friday', '14,366.76704 IDR'),\n",
       " ('4/14/2022', 'Thursday', '14,383.95000 IDR'),\n",
       " ('4/13/2022', 'Wednesday', '14,372.00000 IDR'),\n",
       " ('4/12/2022', 'Tuesday', '14,376.50000 IDR'),\n",
       " ('4/11/2022', 'Monday', '14,373.00000 IDR'),\n",
       " ('4/8/2022', 'Friday', '14,370.65000 IDR'),\n",
       " ('4/7/2022', 'Thursday', '14,374.45000 IDR'),\n",
       " ('4/6/2022', 'Wednesday', '14,380.95000 IDR'),\n",
       " ('4/5/2022', 'Tuesday', '14,368.50000 IDR'),\n",
       " ('4/4/2022', 'Monday', '14,328.90000 IDR'),\n",
       " ('4/1/2022', 'Friday', '14,371.45000 IDR'),\n",
       " ('3/31/2022', 'Thursday', '14,348.05000 IDR'),\n",
       " ('3/30/2022', 'Wednesday', '14,330.50000 IDR'),\n",
       " ('3/29/2022', 'Tuesday', '14,347.50000 IDR'),\n",
       " ('3/28/2022', 'Monday', '14,363.90000 IDR'),\n",
       " ('3/25/2022', 'Friday', '14,357.40000 IDR'),\n",
       " ('3/24/2022', 'Thursday', '14,362.10000 IDR'),\n",
       " ('3/23/2022', 'Wednesday', '14,381.05000 IDR'),\n",
       " ('3/22/2022', 'Tuesday', '14,350.50000 IDR'),\n",
       " ('3/21/2022', 'Monday', '14,341.95000 IDR'),\n",
       " ('3/18/2022', 'Friday', '14,342.35000 IDR'),\n",
       " ('3/17/2022', 'Thursday', '14,330.50000 IDR'),\n",
       " ('3/16/2022', 'Wednesday', '14,267.50000 IDR'),\n",
       " ('3/15/2022', 'Tuesday', '14,312.00000 IDR'),\n",
       " ('3/14/2022', 'Monday', '14,351.50000 IDR'),\n",
       " ('3/11/2022', 'Friday', '14,327.00000 IDR'),\n",
       " ('3/10/2022', 'Thursday', '14,280.00000 IDR'),\n",
       " ('3/9/2022', 'Wednesday', '14,257.95000 IDR'),\n",
       " ('3/8/2022', 'Tuesday', '14,363.70000 IDR'),\n",
       " ('3/7/2022', 'Monday', '14,407.40000 IDR'),\n",
       " ('3/4/2022', 'Friday', '14,383.20000 IDR'),\n",
       " ('3/3/2022', 'Thursday', '14,359.40000 IDR'),\n",
       " ('3/2/2022', 'Wednesday', '14,391.50000 IDR'),\n",
       " ('3/1/2022', 'Tuesday', '14,429.84376 IDR'),\n",
       " ('2/28/2022', 'Monday', '14,367.90938 IDR'),\n",
       " ('2/25/2022', 'Friday', '14,334.25000 IDR'),\n",
       " ('2/24/2022', 'Thursday', '14,421.45000 IDR'),\n",
       " ('2/23/2022', 'Wednesday', '14,351.75000 IDR'),\n",
       " ('2/22/2022', 'Tuesday', '14,380.20000 IDR'),\n",
       " ('2/21/2022', 'Monday', '14,354.80000 IDR'),\n",
       " ('2/18/2022', 'Friday', '14,366.90000 IDR'),\n",
       " ('2/17/2022', 'Thursday', '14,357.40000 IDR'),\n",
       " ('2/16/2022', 'Wednesday', '14,274.45000 IDR'),\n",
       " ('2/15/2022', 'Tuesday', '14,265.45000 IDR'),\n",
       " ('2/14/2022', 'Monday', '14,303.45000 IDR'),\n",
       " ('2/11/2022', 'Friday', '14,344.75000 IDR'),\n",
       " ('2/10/2022', 'Thursday', '14,357.00000 IDR'),\n",
       " ('2/9/2022', 'Wednesday', '14,334.30000 IDR'),\n",
       " ('2/8/2022', 'Tuesday', '14,386.75000 IDR'),\n",
       " ('2/7/2022', 'Monday', '14,394.90000 IDR'),\n",
       " ('2/4/2022', 'Friday', '14,400.70000 IDR'),\n",
       " ('2/3/2022', 'Thursday', '14,387.00000 IDR'),\n",
       " ('2/2/2022', 'Wednesday', '14,355.35000 IDR'),\n",
       " ('2/1/2022', 'Tuesday', '14,328.30000 IDR'),\n",
       " ('1/31/2022', 'Monday', '14,339.40000 IDR'),\n",
       " ('1/28/2022', 'Friday', '14,383.40000 IDR'),\n",
       " ('1/27/2022', 'Thursday', '14,395.00000 IDR'),\n",
       " ('1/26/2022', 'Wednesday', '14,366.45000 IDR'),\n",
       " ('1/25/2022', 'Tuesday', '14,330.55000 IDR'),\n",
       " ('1/24/2022', 'Monday', '14,350.70000 IDR'),\n",
       " ('1/21/2022', 'Friday', '14,329.75000 IDR'),\n",
       " ('1/20/2022', 'Thursday', '14,327.60000 IDR'),\n",
       " ('1/19/2022', 'Wednesday', '14,362.85000 IDR'),\n",
       " ('1/18/2022', 'Tuesday', '14,358.70000 IDR'),\n",
       " ('1/17/2022', 'Monday', '14,331.25000 IDR'),\n",
       " ('1/14/2022', 'Friday', '14,314.55000 IDR'),\n",
       " ('1/13/2022', 'Thursday', '14,309.00000 IDR'),\n",
       " ('1/12/2022', 'Wednesday', '14,298.95000 IDR'),\n",
       " ('1/11/2022', 'Tuesday', '14,284.46501 IDR'),\n",
       " ('1/10/2022', 'Monday', '14,290.15000 IDR')]"
      ]
     },
     "execution_count": 318,
     "metadata": {},
     "output_type": "execute_result"
    }
   ],
   "source": [
    "temp = [] #initiating a tuple\n",
    "\n",
    "for i in range(0, row_length):\n",
    "\n",
    "    #scrapping process\n",
    "    row = table.find_all('tr')[i]\n",
    "    \n",
    "    date = row.find_all('td')[0].text #get date\n",
    "    date = date.strip() #to remove excess white space\n",
    "    \n",
    "    day = row.find_all('td')[1].text #get day\n",
    "    day = day.strip() #to remove excess white space\n",
    "    \n",
    "    ex_rates = row.find_all('td')[2].text #get exchange rates\n",
    "    ex_rates = ex_rates.strip() #to remove excess white space\n",
    "    \n",
    "    temp.append((date,day,ex_rates)) #append the needed information\n",
    "    \n",
    "temp "
   ]
  },
  {
   "cell_type": "markdown",
   "metadata": {},
   "source": [
    "That's the result of the looping process we've done. If you notice, the result is reversed due to the original webpage give us reversed information. To do a further analysis, let's reverse our list. We can use `::-1` like the code below"
   ]
  },
  {
   "cell_type": "code",
   "execution_count": 319,
   "metadata": {
    "scrolled": false
   },
   "outputs": [
    {
     "data": {
      "text/plain": [
       "[('1/10/2022', 'Monday', '14,290.15000 IDR'),\n",
       " ('1/11/2022', 'Tuesday', '14,284.46501 IDR'),\n",
       " ('1/12/2022', 'Wednesday', '14,298.95000 IDR'),\n",
       " ('1/13/2022', 'Thursday', '14,309.00000 IDR'),\n",
       " ('1/14/2022', 'Friday', '14,314.55000 IDR'),\n",
       " ('1/17/2022', 'Monday', '14,331.25000 IDR'),\n",
       " ('1/18/2022', 'Tuesday', '14,358.70000 IDR'),\n",
       " ('1/19/2022', 'Wednesday', '14,362.85000 IDR'),\n",
       " ('1/20/2022', 'Thursday', '14,327.60000 IDR'),\n",
       " ('1/21/2022', 'Friday', '14,329.75000 IDR'),\n",
       " ('1/24/2022', 'Monday', '14,350.70000 IDR'),\n",
       " ('1/25/2022', 'Tuesday', '14,330.55000 IDR'),\n",
       " ('1/26/2022', 'Wednesday', '14,366.45000 IDR'),\n",
       " ('1/27/2022', 'Thursday', '14,395.00000 IDR'),\n",
       " ('1/28/2022', 'Friday', '14,383.40000 IDR'),\n",
       " ('1/31/2022', 'Monday', '14,339.40000 IDR'),\n",
       " ('2/1/2022', 'Tuesday', '14,328.30000 IDR'),\n",
       " ('2/2/2022', 'Wednesday', '14,355.35000 IDR'),\n",
       " ('2/3/2022', 'Thursday', '14,387.00000 IDR'),\n",
       " ('2/4/2022', 'Friday', '14,400.70000 IDR'),\n",
       " ('2/7/2022', 'Monday', '14,394.90000 IDR'),\n",
       " ('2/8/2022', 'Tuesday', '14,386.75000 IDR'),\n",
       " ('2/9/2022', 'Wednesday', '14,334.30000 IDR'),\n",
       " ('2/10/2022', 'Thursday', '14,357.00000 IDR'),\n",
       " ('2/11/2022', 'Friday', '14,344.75000 IDR'),\n",
       " ('2/14/2022', 'Monday', '14,303.45000 IDR'),\n",
       " ('2/15/2022', 'Tuesday', '14,265.45000 IDR'),\n",
       " ('2/16/2022', 'Wednesday', '14,274.45000 IDR'),\n",
       " ('2/17/2022', 'Thursday', '14,357.40000 IDR'),\n",
       " ('2/18/2022', 'Friday', '14,366.90000 IDR'),\n",
       " ('2/21/2022', 'Monday', '14,354.80000 IDR'),\n",
       " ('2/22/2022', 'Tuesday', '14,380.20000 IDR'),\n",
       " ('2/23/2022', 'Wednesday', '14,351.75000 IDR'),\n",
       " ('2/24/2022', 'Thursday', '14,421.45000 IDR'),\n",
       " ('2/25/2022', 'Friday', '14,334.25000 IDR'),\n",
       " ('2/28/2022', 'Monday', '14,367.90938 IDR'),\n",
       " ('3/1/2022', 'Tuesday', '14,429.84376 IDR'),\n",
       " ('3/2/2022', 'Wednesday', '14,391.50000 IDR'),\n",
       " ('3/3/2022', 'Thursday', '14,359.40000 IDR'),\n",
       " ('3/4/2022', 'Friday', '14,383.20000 IDR'),\n",
       " ('3/7/2022', 'Monday', '14,407.40000 IDR'),\n",
       " ('3/8/2022', 'Tuesday', '14,363.70000 IDR'),\n",
       " ('3/9/2022', 'Wednesday', '14,257.95000 IDR'),\n",
       " ('3/10/2022', 'Thursday', '14,280.00000 IDR'),\n",
       " ('3/11/2022', 'Friday', '14,327.00000 IDR'),\n",
       " ('3/14/2022', 'Monday', '14,351.50000 IDR'),\n",
       " ('3/15/2022', 'Tuesday', '14,312.00000 IDR'),\n",
       " ('3/16/2022', 'Wednesday', '14,267.50000 IDR'),\n",
       " ('3/17/2022', 'Thursday', '14,330.50000 IDR'),\n",
       " ('3/18/2022', 'Friday', '14,342.35000 IDR'),\n",
       " ('3/21/2022', 'Monday', '14,341.95000 IDR'),\n",
       " ('3/22/2022', 'Tuesday', '14,350.50000 IDR'),\n",
       " ('3/23/2022', 'Wednesday', '14,381.05000 IDR'),\n",
       " ('3/24/2022', 'Thursday', '14,362.10000 IDR'),\n",
       " ('3/25/2022', 'Friday', '14,357.40000 IDR'),\n",
       " ('3/28/2022', 'Monday', '14,363.90000 IDR'),\n",
       " ('3/29/2022', 'Tuesday', '14,347.50000 IDR'),\n",
       " ('3/30/2022', 'Wednesday', '14,330.50000 IDR'),\n",
       " ('3/31/2022', 'Thursday', '14,348.05000 IDR'),\n",
       " ('4/1/2022', 'Friday', '14,371.45000 IDR'),\n",
       " ('4/4/2022', 'Monday', '14,328.90000 IDR'),\n",
       " ('4/5/2022', 'Tuesday', '14,368.50000 IDR'),\n",
       " ('4/6/2022', 'Wednesday', '14,380.95000 IDR'),\n",
       " ('4/7/2022', 'Thursday', '14,374.45000 IDR'),\n",
       " ('4/8/2022', 'Friday', '14,370.65000 IDR'),\n",
       " ('4/11/2022', 'Monday', '14,373.00000 IDR'),\n",
       " ('4/12/2022', 'Tuesday', '14,376.50000 IDR'),\n",
       " ('4/13/2022', 'Wednesday', '14,372.00000 IDR'),\n",
       " ('4/14/2022', 'Thursday', '14,383.95000 IDR'),\n",
       " ('4/15/2022', 'Friday', '14,366.76704 IDR'),\n",
       " ('4/18/2022', 'Monday', '14,353.85000 IDR'),\n",
       " ('4/19/2022', 'Tuesday', '14,375.50000 IDR'),\n",
       " ('4/20/2022', 'Wednesday', '14,364.00000 IDR'),\n",
       " ('4/21/2022', 'Thursday', '14,386.00000 IDR'),\n",
       " ('4/22/2022', 'Friday', '14,470.00000 IDR'),\n",
       " ('4/25/2022', 'Monday', '14,426.50000 IDR'),\n",
       " ('4/26/2022', 'Tuesday', '14,432.50000 IDR'),\n",
       " ('4/27/2022', 'Wednesday', '14,447.55000 IDR'),\n",
       " ('4/28/2022', 'Thursday', '14,516.00000 IDR'),\n",
       " ('4/29/2022', 'Friday', '14,525.10000 IDR'),\n",
       " ('5/2/2022', 'Monday', '14,526.60000 IDR'),\n",
       " ('5/3/2022', 'Tuesday', '14,455.80000 IDR'),\n",
       " ('5/4/2022', 'Wednesday', '14,430.00000 IDR'),\n",
       " ('5/5/2022', 'Thursday', '14,458.75000 IDR'),\n",
       " ('5/6/2022', 'Friday', '14,498.65000 IDR'),\n",
       " ('5/9/2022', 'Monday', '14,552.25000 IDR'),\n",
       " ('5/10/2022', 'Tuesday', '14,526.40000 IDR'),\n",
       " ('5/11/2022', 'Wednesday', '14,545.90000 IDR'),\n",
       " ('5/12/2022', 'Thursday', '14,667.00000 IDR'),\n",
       " ('5/13/2022', 'Friday', '14,665.95000 IDR'),\n",
       " ('5/16/2022', 'Monday', '14,647.20000 IDR'),\n",
       " ('5/17/2022', 'Tuesday', '14,630.65000 IDR'),\n",
       " ('5/18/2022', 'Wednesday', '14,740.05000 IDR'),\n",
       " ('5/19/2022', 'Thursday', '14,632.60000 IDR'),\n",
       " ('5/20/2022', 'Friday', '14,672.44395 IDR'),\n",
       " ('5/23/2022', 'Monday', '14,625.70000 IDR'),\n",
       " ('5/24/2022', 'Tuesday', '14,635.75000 IDR'),\n",
       " ('5/25/2022', 'Wednesday', '14,632.75000 IDR'),\n",
       " ('5/26/2022', 'Thursday', '14,610.10000 IDR'),\n",
       " ('5/27/2022', 'Friday', '14,539.40000 IDR'),\n",
       " ('5/30/2022', 'Monday', '14,538.55000 IDR'),\n",
       " ('5/31/2022', 'Tuesday', '14,580.63428 IDR'),\n",
       " ('6/1/2022', 'Wednesday', '14,555.60000 IDR'),\n",
       " ('6/2/2022', 'Thursday', '14,435.00000 IDR'),\n",
       " ('6/3/2022', 'Friday', '14,433.50000 IDR'),\n",
       " ('6/6/2022', 'Monday', '14,437.70000 IDR'),\n",
       " ('6/7/2022', 'Tuesday', '14,465.30000 IDR'),\n",
       " ('6/8/2022', 'Wednesday', '14,513.20000 IDR'),\n",
       " ('6/9/2022', 'Thursday', '14,611.85000 IDR'),\n",
       " ('6/10/2022', 'Friday', '14,614.95000 IDR'),\n",
       " ('6/13/2022', 'Monday', '14,782.80000 IDR'),\n",
       " ('6/14/2022', 'Tuesday', '14,764.20000 IDR'),\n",
       " ('6/15/2022', 'Wednesday', '14,695.10000 IDR'),\n",
       " ('6/16/2022', 'Thursday', '14,809.20000 IDR'),\n",
       " ('6/17/2022', 'Friday', '14,838.85000 IDR'),\n",
       " ('6/20/2022', 'Monday', '14,827.75000 IDR'),\n",
       " ('6/21/2022', 'Tuesday', '14,833.60000 IDR'),\n",
       " ('6/22/2022', 'Wednesday', '14,833.90000 IDR'),\n",
       " ('6/23/2022', 'Thursday', '14,848.80000 IDR'),\n",
       " ('6/24/2022', 'Friday', '14,829.50000 IDR'),\n",
       " ('6/27/2022', 'Monday', '14,807.70000 IDR'),\n",
       " ('6/28/2022', 'Tuesday', '14,852.35000 IDR'),\n",
       " ('6/29/2022', 'Wednesday', '14,868.90000 IDR'),\n",
       " ('6/30/2022', 'Thursday', '14,928.80000 IDR'),\n",
       " ('7/1/2022', 'Friday', '14,975.15000 IDR'),\n",
       " ('7/4/2022', 'Monday', '14,994.55000 IDR'),\n",
       " ('7/5/2022', 'Tuesday', '15,014.65000 IDR'),\n",
       " ('7/6/2022', 'Wednesday', '14,996.82520 IDR'),\n",
       " ('7/7/2022', 'Thursday', '14,964.65000 IDR'),\n",
       " ('7/8/2022', 'Friday', '14,976.95000 IDR')]"
      ]
     },
     "execution_count": 319,
     "metadata": {},
     "output_type": "execute_result"
    }
   ],
   "source": [
    "# Reverse our list to do further analysis\n",
    "temp = temp[::-1]\n",
    "temp"
   ]
  },
  {
   "cell_type": "markdown",
   "metadata": {},
   "source": [
    "## Creating data frame & Data wrangling"
   ]
  },
  {
   "cell_type": "markdown",
   "metadata": {},
   "source": [
    "Put the array into dataframe"
   ]
  },
  {
   "cell_type": "code",
   "execution_count": 320,
   "metadata": {
    "ExecuteTime": {
     "end_time": "2020-01-13T05:12:41.517372Z",
     "start_time": "2020-01-13T05:12:29.130015Z"
    }
   },
   "outputs": [
    {
     "data": {
      "text/html": [
       "<div>\n",
       "<style scoped>\n",
       "    .dataframe tbody tr th:only-of-type {\n",
       "        vertical-align: middle;\n",
       "    }\n",
       "\n",
       "    .dataframe tbody tr th {\n",
       "        vertical-align: top;\n",
       "    }\n",
       "\n",
       "    .dataframe thead th {\n",
       "        text-align: right;\n",
       "    }\n",
       "</style>\n",
       "<table border=\"1\" class=\"dataframe\">\n",
       "  <thead>\n",
       "    <tr style=\"text-align: right;\">\n",
       "      <th></th>\n",
       "      <th>date</th>\n",
       "      <th>day</th>\n",
       "      <th>ex_rates</th>\n",
       "    </tr>\n",
       "  </thead>\n",
       "  <tbody>\n",
       "    <tr>\n",
       "      <th>0</th>\n",
       "      <td>1/10/2022</td>\n",
       "      <td>Monday</td>\n",
       "      <td>14,290.15000 IDR</td>\n",
       "    </tr>\n",
       "    <tr>\n",
       "      <th>1</th>\n",
       "      <td>1/11/2022</td>\n",
       "      <td>Tuesday</td>\n",
       "      <td>14,284.46501 IDR</td>\n",
       "    </tr>\n",
       "    <tr>\n",
       "      <th>2</th>\n",
       "      <td>1/12/2022</td>\n",
       "      <td>Wednesday</td>\n",
       "      <td>14,298.95000 IDR</td>\n",
       "    </tr>\n",
       "    <tr>\n",
       "      <th>3</th>\n",
       "      <td>1/13/2022</td>\n",
       "      <td>Thursday</td>\n",
       "      <td>14,309.00000 IDR</td>\n",
       "    </tr>\n",
       "    <tr>\n",
       "      <th>4</th>\n",
       "      <td>1/14/2022</td>\n",
       "      <td>Friday</td>\n",
       "      <td>14,314.55000 IDR</td>\n",
       "    </tr>\n",
       "  </tbody>\n",
       "</table>\n",
       "</div>"
      ],
      "text/plain": [
       "        date        day          ex_rates\n",
       "0  1/10/2022     Monday  14,290.15000 IDR\n",
       "1  1/11/2022    Tuesday  14,284.46501 IDR\n",
       "2  1/12/2022  Wednesday  14,298.95000 IDR\n",
       "3  1/13/2022   Thursday  14,309.00000 IDR\n",
       "4  1/14/2022     Friday  14,314.55000 IDR"
      ]
     },
     "execution_count": 320,
     "metadata": {},
     "output_type": "execute_result"
    }
   ],
   "source": [
    "import pandas as pd\n",
    "\n",
    "df = pd.DataFrame(temp, columns = ('date', 'day', 'ex_rates'))\n",
    "df.head()"
   ]
  },
  {
   "cell_type": "markdown",
   "metadata": {},
   "source": [
    "Let's check our dataframe data types to see if our data is useable."
   ]
  },
  {
   "cell_type": "code",
   "execution_count": 321,
   "metadata": {},
   "outputs": [
    {
     "data": {
      "text/plain": [
       "date        object\n",
       "day         object\n",
       "ex_rates    object\n",
       "dtype: object"
      ]
     },
     "execution_count": 321,
     "metadata": {},
     "output_type": "execute_result"
    }
   ],
   "source": [
    "df.dtypes"
   ]
  },
  {
   "cell_type": "markdown",
   "metadata": {},
   "source": [
    "Do the data cleaning here (please change this markdown with your explanation of what you do for data wrangling)\n",
    "\n",
    "To make our data to be readable by pandas, we have to remove coma and IDR from our dataframe. To do this we can use the help of `str.replace()`. We also need to change the data type from `date` to `datetime64` and data type `ex_rates` to `float64` . "
   ]
  },
  {
   "cell_type": "code",
   "execution_count": 322,
   "metadata": {
    "ExecuteTime": {
     "end_time": "2020-01-13T05:12:59.165559Z",
     "start_time": "2020-01-13T05:12:58.910012Z"
    }
   },
   "outputs": [],
   "source": [
    "df['ex_rates'] = df['ex_rates'].str.replace(',','') #remove coma\n",
    "df['ex_rates'] = df['ex_rates'].str.replace('IDR','') #remove IDR"
   ]
  },
  {
   "cell_type": "code",
   "execution_count": 323,
   "metadata": {},
   "outputs": [
    {
     "data": {
      "text/html": [
       "<div>\n",
       "<style scoped>\n",
       "    .dataframe tbody tr th:only-of-type {\n",
       "        vertical-align: middle;\n",
       "    }\n",
       "\n",
       "    .dataframe tbody tr th {\n",
       "        vertical-align: top;\n",
       "    }\n",
       "\n",
       "    .dataframe thead th {\n",
       "        text-align: right;\n",
       "    }\n",
       "</style>\n",
       "<table border=\"1\" class=\"dataframe\">\n",
       "  <thead>\n",
       "    <tr style=\"text-align: right;\">\n",
       "      <th></th>\n",
       "      <th>date</th>\n",
       "      <th>day</th>\n",
       "      <th>ex_rates</th>\n",
       "    </tr>\n",
       "  </thead>\n",
       "  <tbody>\n",
       "    <tr>\n",
       "      <th>0</th>\n",
       "      <td>1/10/2022</td>\n",
       "      <td>Monday</td>\n",
       "      <td>14290.15000</td>\n",
       "    </tr>\n",
       "    <tr>\n",
       "      <th>1</th>\n",
       "      <td>1/11/2022</td>\n",
       "      <td>Tuesday</td>\n",
       "      <td>14284.46501</td>\n",
       "    </tr>\n",
       "    <tr>\n",
       "      <th>2</th>\n",
       "      <td>1/12/2022</td>\n",
       "      <td>Wednesday</td>\n",
       "      <td>14298.95000</td>\n",
       "    </tr>\n",
       "    <tr>\n",
       "      <th>3</th>\n",
       "      <td>1/13/2022</td>\n",
       "      <td>Thursday</td>\n",
       "      <td>14309.00000</td>\n",
       "    </tr>\n",
       "    <tr>\n",
       "      <th>4</th>\n",
       "      <td>1/14/2022</td>\n",
       "      <td>Friday</td>\n",
       "      <td>14314.55000</td>\n",
       "    </tr>\n",
       "    <tr>\n",
       "      <th>...</th>\n",
       "      <td>...</td>\n",
       "      <td>...</td>\n",
       "      <td>...</td>\n",
       "    </tr>\n",
       "    <tr>\n",
       "      <th>125</th>\n",
       "      <td>7/4/2022</td>\n",
       "      <td>Monday</td>\n",
       "      <td>14994.55000</td>\n",
       "    </tr>\n",
       "    <tr>\n",
       "      <th>126</th>\n",
       "      <td>7/5/2022</td>\n",
       "      <td>Tuesday</td>\n",
       "      <td>15014.65000</td>\n",
       "    </tr>\n",
       "    <tr>\n",
       "      <th>127</th>\n",
       "      <td>7/6/2022</td>\n",
       "      <td>Wednesday</td>\n",
       "      <td>14996.82520</td>\n",
       "    </tr>\n",
       "    <tr>\n",
       "      <th>128</th>\n",
       "      <td>7/7/2022</td>\n",
       "      <td>Thursday</td>\n",
       "      <td>14964.65000</td>\n",
       "    </tr>\n",
       "    <tr>\n",
       "      <th>129</th>\n",
       "      <td>7/8/2022</td>\n",
       "      <td>Friday</td>\n",
       "      <td>14976.95000</td>\n",
       "    </tr>\n",
       "  </tbody>\n",
       "</table>\n",
       "<p>130 rows × 3 columns</p>\n",
       "</div>"
      ],
      "text/plain": [
       "          date        day      ex_rates\n",
       "0    1/10/2022     Monday  14290.15000 \n",
       "1    1/11/2022    Tuesday  14284.46501 \n",
       "2    1/12/2022  Wednesday  14298.95000 \n",
       "3    1/13/2022   Thursday  14309.00000 \n",
       "4    1/14/2022     Friday  14314.55000 \n",
       "..         ...        ...           ...\n",
       "125   7/4/2022     Monday  14994.55000 \n",
       "126   7/5/2022    Tuesday  15014.65000 \n",
       "127   7/6/2022  Wednesday  14996.82520 \n",
       "128   7/7/2022   Thursday  14964.65000 \n",
       "129   7/8/2022     Friday  14976.95000 \n",
       "\n",
       "[130 rows x 3 columns]"
      ]
     },
     "execution_count": 323,
     "metadata": {},
     "output_type": "execute_result"
    }
   ],
   "source": [
    "df"
   ]
  },
  {
   "cell_type": "code",
   "execution_count": 324,
   "metadata": {},
   "outputs": [],
   "source": [
    "df['date'] = pd.to_datetime(df['date']) #change date data types to datetime64"
   ]
  },
  {
   "cell_type": "code",
   "execution_count": 325,
   "metadata": {},
   "outputs": [],
   "source": [
    "df['ex_rates'] = df['ex_rates'].astype('float64') #change ex_rate data types to float64"
   ]
  },
  {
   "cell_type": "markdown",
   "metadata": {},
   "source": [
    "Let's check our dataframe data types once again after cleaning process"
   ]
  },
  {
   "cell_type": "code",
   "execution_count": 326,
   "metadata": {
    "scrolled": true
   },
   "outputs": [
    {
     "data": {
      "text/plain": [
       "date        datetime64[ns]\n",
       "day                 object\n",
       "ex_rates           float64\n",
       "dtype: object"
      ]
     },
     "execution_count": 326,
     "metadata": {},
     "output_type": "execute_result"
    }
   ],
   "source": [
    "df.dtypes"
   ]
  },
  {
   "cell_type": "code",
   "execution_count": 327,
   "metadata": {
    "scrolled": true
   },
   "outputs": [
    {
     "data": {
      "text/html": [
       "<div>\n",
       "<style scoped>\n",
       "    .dataframe tbody tr th:only-of-type {\n",
       "        vertical-align: middle;\n",
       "    }\n",
       "\n",
       "    .dataframe tbody tr th {\n",
       "        vertical-align: top;\n",
       "    }\n",
       "\n",
       "    .dataframe thead th {\n",
       "        text-align: right;\n",
       "    }\n",
       "</style>\n",
       "<table border=\"1\" class=\"dataframe\">\n",
       "  <thead>\n",
       "    <tr style=\"text-align: right;\">\n",
       "      <th></th>\n",
       "      <th>date</th>\n",
       "      <th>day</th>\n",
       "      <th>ex_rates</th>\n",
       "    </tr>\n",
       "  </thead>\n",
       "  <tbody>\n",
       "    <tr>\n",
       "      <th>0</th>\n",
       "      <td>2022-01-10</td>\n",
       "      <td>Monday</td>\n",
       "      <td>14290.15000</td>\n",
       "    </tr>\n",
       "    <tr>\n",
       "      <th>1</th>\n",
       "      <td>2022-01-11</td>\n",
       "      <td>Tuesday</td>\n",
       "      <td>14284.46501</td>\n",
       "    </tr>\n",
       "    <tr>\n",
       "      <th>2</th>\n",
       "      <td>2022-01-12</td>\n",
       "      <td>Wednesday</td>\n",
       "      <td>14298.95000</td>\n",
       "    </tr>\n",
       "    <tr>\n",
       "      <th>3</th>\n",
       "      <td>2022-01-13</td>\n",
       "      <td>Thursday</td>\n",
       "      <td>14309.00000</td>\n",
       "    </tr>\n",
       "    <tr>\n",
       "      <th>4</th>\n",
       "      <td>2022-01-14</td>\n",
       "      <td>Friday</td>\n",
       "      <td>14314.55000</td>\n",
       "    </tr>\n",
       "  </tbody>\n",
       "</table>\n",
       "</div>"
      ],
      "text/plain": [
       "        date        day     ex_rates\n",
       "0 2022-01-10     Monday  14290.15000\n",
       "1 2022-01-11    Tuesday  14284.46501\n",
       "2 2022-01-12  Wednesday  14298.95000\n",
       "3 2022-01-13   Thursday  14309.00000\n",
       "4 2022-01-14     Friday  14314.55000"
      ]
     },
     "execution_count": 327,
     "metadata": {},
     "output_type": "execute_result"
    }
   ],
   "source": [
    "df.head()"
   ]
  },
  {
   "cell_type": "markdown",
   "metadata": {},
   "source": [
    "As we get all informations that we need, the next step is to group the average number from `ex_rates` using groupby() and .mean() then rounding two numbers after the comma using round(). Final steps, assign our dataframe `df` to `df2`"
   ]
  },
  {
   "cell_type": "markdown",
   "metadata": {},
   "source": [
    "Data visualisation \n",
    "\n",
    "To make our plot behave like we want, we need to set our index of our dataframe to our time coloumn. We can use `set_index()` and the final step is to visualise the dataframe into a chart using .plot() to show daily exchange rates movement from 10 january to 7 july"
   ]
  },
  {
   "cell_type": "code",
   "execution_count": 328,
   "metadata": {},
   "outputs": [
    {
     "data": {
      "text/html": [
       "<div>\n",
       "<style scoped>\n",
       "    .dataframe tbody tr th:only-of-type {\n",
       "        vertical-align: middle;\n",
       "    }\n",
       "\n",
       "    .dataframe tbody tr th {\n",
       "        vertical-align: top;\n",
       "    }\n",
       "\n",
       "    .dataframe thead th {\n",
       "        text-align: right;\n",
       "    }\n",
       "</style>\n",
       "<table border=\"1\" class=\"dataframe\">\n",
       "  <thead>\n",
       "    <tr style=\"text-align: right;\">\n",
       "      <th></th>\n",
       "      <th>day</th>\n",
       "      <th>ex_rates</th>\n",
       "    </tr>\n",
       "    <tr>\n",
       "      <th>date</th>\n",
       "      <th></th>\n",
       "      <th></th>\n",
       "    </tr>\n",
       "  </thead>\n",
       "  <tbody>\n",
       "    <tr>\n",
       "      <th>2022-01-10</th>\n",
       "      <td>Monday</td>\n",
       "      <td>14290.15000</td>\n",
       "    </tr>\n",
       "    <tr>\n",
       "      <th>2022-01-11</th>\n",
       "      <td>Tuesday</td>\n",
       "      <td>14284.46501</td>\n",
       "    </tr>\n",
       "    <tr>\n",
       "      <th>2022-01-12</th>\n",
       "      <td>Wednesday</td>\n",
       "      <td>14298.95000</td>\n",
       "    </tr>\n",
       "    <tr>\n",
       "      <th>2022-01-13</th>\n",
       "      <td>Thursday</td>\n",
       "      <td>14309.00000</td>\n",
       "    </tr>\n",
       "    <tr>\n",
       "      <th>2022-01-14</th>\n",
       "      <td>Friday</td>\n",
       "      <td>14314.55000</td>\n",
       "    </tr>\n",
       "  </tbody>\n",
       "</table>\n",
       "</div>"
      ],
      "text/plain": [
       "                  day     ex_rates\n",
       "date                              \n",
       "2022-01-10     Monday  14290.15000\n",
       "2022-01-11    Tuesday  14284.46501\n",
       "2022-01-12  Wednesday  14298.95000\n",
       "2022-01-13   Thursday  14309.00000\n",
       "2022-01-14     Friday  14314.55000"
      ]
     },
     "execution_count": 328,
     "metadata": {},
     "output_type": "execute_result"
    }
   ],
   "source": [
    "df = df.set_index('date')\n",
    "df.head()"
   ]
  },
  {
   "cell_type": "code",
   "execution_count": 329,
   "metadata": {},
   "outputs": [
    {
     "data": {
      "text/plain": [
       "<AxesSubplot:xlabel='date'>"
      ]
     },
     "execution_count": 329,
     "metadata": {},
     "output_type": "execute_result"
    },
    {
     "data": {
      "image/png": "[encoded data removed]",
      "text/plain": [
       "<Figure size 432x288 with 1 Axes>"
      ]
     },
     "metadata": {
      "needs_background": "light"
     },
     "output_type": "display_data"
    }
   ],
   "source": [
    "df.plot()"
   ]
  },
  {
   "cell_type": "markdown",
   "metadata": {},
   "source": [
    "### Implementing your webscrapping to the flask dashboard\n",
    "\n",
    "- Copy paste all of your web scrapping process to the desired position on the `app.py`\n",
    "- Changing the title of the dasboard at `index.html`"
   ]
  },
  {
   "cell_type": "markdown",
   "metadata": {},
   "source": [
    "## Finishing This Notebook with Your Analysis and Conclusion\n",
    "\n",
    "First you can do start with making the data visualisation. "
   ]
  },
  {
   "cell_type": "markdown",
   "metadata": {},
   "source": [
    "To make further analysis we will create a new dataframe called `df1` by copying `df` using `.copy()` , after that we will add a column named `period` to store month name information using `dt.month_name()`. Because in the previous dataframe the `date` column was set to `index`, we need to reset the index so that the `dt.month_name()` method which takes the value from `date` can run. After that we will return the position of `date` to index."
   ]
  },
  {
   "cell_type": "code",
   "execution_count": 330,
   "metadata": {
    "scrolled": true
   },
   "outputs": [
    {
     "data": {
      "text/html": [
       "<div>\n",
       "<style scoped>\n",
       "    .dataframe tbody tr th:only-of-type {\n",
       "        vertical-align: middle;\n",
       "    }\n",
       "\n",
       "    .dataframe tbody tr th {\n",
       "        vertical-align: top;\n",
       "    }\n",
       "\n",
       "    .dataframe thead th {\n",
       "        text-align: right;\n",
       "    }\n",
       "</style>\n",
       "<table border=\"1\" class=\"dataframe\">\n",
       "  <thead>\n",
       "    <tr style=\"text-align: right;\">\n",
       "      <th></th>\n",
       "      <th>date</th>\n",
       "      <th>day</th>\n",
       "      <th>ex_rates</th>\n",
       "      <th>period</th>\n",
       "    </tr>\n",
       "  </thead>\n",
       "  <tbody>\n",
       "    <tr>\n",
       "      <th>0</th>\n",
       "      <td>2022-01-10</td>\n",
       "      <td>Monday</td>\n",
       "      <td>14290.15000</td>\n",
       "      <td>January</td>\n",
       "    </tr>\n",
       "    <tr>\n",
       "      <th>1</th>\n",
       "      <td>2022-01-11</td>\n",
       "      <td>Tuesday</td>\n",
       "      <td>14284.46501</td>\n",
       "      <td>January</td>\n",
       "    </tr>\n",
       "    <tr>\n",
       "      <th>2</th>\n",
       "      <td>2022-01-12</td>\n",
       "      <td>Wednesday</td>\n",
       "      <td>14298.95000</td>\n",
       "      <td>January</td>\n",
       "    </tr>\n",
       "    <tr>\n",
       "      <th>3</th>\n",
       "      <td>2022-01-13</td>\n",
       "      <td>Thursday</td>\n",
       "      <td>14309.00000</td>\n",
       "      <td>January</td>\n",
       "    </tr>\n",
       "    <tr>\n",
       "      <th>4</th>\n",
       "      <td>2022-01-14</td>\n",
       "      <td>Friday</td>\n",
       "      <td>14314.55000</td>\n",
       "      <td>January</td>\n",
       "    </tr>\n",
       "  </tbody>\n",
       "</table>\n",
       "</div>"
      ],
      "text/plain": [
       "        date        day     ex_rates   period\n",
       "0 2022-01-10     Monday  14290.15000  January\n",
       "1 2022-01-11    Tuesday  14284.46501  January\n",
       "2 2022-01-12  Wednesday  14298.95000  January\n",
       "3 2022-01-13   Thursday  14309.00000  January\n",
       "4 2022-01-14     Friday  14314.55000  January"
      ]
     },
     "execution_count": 330,
     "metadata": {},
     "output_type": "execute_result"
    }
   ],
   "source": [
    "df1 = df.copy() #copy df to df1\n",
    "df1.reset_index(inplace =True) #reset index, date become a column\n",
    "df1['period'] = df1['date'].dt.month_name().astype('category') #change period data types as category\n",
    "df1.set_index('date') #set date as index\n",
    "df1.head()"
   ]
  },
  {
   "cell_type": "code",
   "execution_count": 331,
   "metadata": {},
   "outputs": [],
   "source": [
    "#Sort the names of the months in order\n",
    "ordered_month = ['January', 'February', 'March', 'April', 'May', 'June', 'July']\n",
    "df1['period'] = df1['period'].cat.reorder_categories(ordered_month)"
   ]
  },
  {
   "cell_type": "markdown",
   "metadata": {},
   "source": [
    "The next step is to analyze the average value, the highest value and the lowest value for each `period` using the `.pd.crosstab()` method and slicing operator `.loc`."
   ]
  },
  {
   "cell_type": "code",
   "execution_count": 332,
   "metadata": {
    "scrolled": false
   },
   "outputs": [
    {
     "data": {
      "text/html": [
       "<div>\n",
       "<style scoped>\n",
       "    .dataframe tbody tr th:only-of-type {\n",
       "        vertical-align: middle;\n",
       "    }\n",
       "\n",
       "    .dataframe tbody tr th {\n",
       "        vertical-align: top;\n",
       "    }\n",
       "\n",
       "    .dataframe thead th {\n",
       "        text-align: right;\n",
       "    }\n",
       "</style>\n",
       "<table border=\"1\" class=\"dataframe\">\n",
       "  <thead>\n",
       "    <tr style=\"text-align: right;\">\n",
       "      <th>col_0</th>\n",
       "      <th>Mean Rates</th>\n",
       "    </tr>\n",
       "    <tr>\n",
       "      <th>period</th>\n",
       "      <th></th>\n",
       "    </tr>\n",
       "  </thead>\n",
       "  <tbody>\n",
       "    <tr>\n",
       "      <th>January</th>\n",
       "      <td>14335.80</td>\n",
       "    </tr>\n",
       "    <tr>\n",
       "      <th>February</th>\n",
       "      <td>14353.35</td>\n",
       "    </tr>\n",
       "    <tr>\n",
       "      <th>March</th>\n",
       "      <td>14347.25</td>\n",
       "    </tr>\n",
       "    <tr>\n",
       "      <th>April</th>\n",
       "      <td>14398.29</td>\n",
       "    </tr>\n",
       "    <tr>\n",
       "      <th>May</th>\n",
       "      <td>14582.41</td>\n",
       "    </tr>\n",
       "    <tr>\n",
       "      <th>June</th>\n",
       "      <td>14708.57</td>\n",
       "    </tr>\n",
       "    <tr>\n",
       "      <th>July</th>\n",
       "      <td>14987.13</td>\n",
       "    </tr>\n",
       "  </tbody>\n",
       "</table>\n",
       "</div>"
      ],
      "text/plain": [
       "col_0     Mean Rates\n",
       "period              \n",
       "January     14335.80\n",
       "February    14353.35\n",
       "March       14347.25\n",
       "April       14398.29\n",
       "May         14582.41\n",
       "June        14708.57\n",
       "July        14987.13"
      ]
     },
     "execution_count": 332,
     "metadata": {},
     "output_type": "execute_result"
    }
   ],
   "source": [
    "#display the average exchange rates by month\n",
    "pd.crosstab(\n",
    "    index = df1['period'],\n",
    "    columns ='Mean Rates',\n",
    "    values = df1['ex_rates'],\n",
    "    aggfunc ='mean'\n",
    ").round(2)"
   ]
  },
  {
   "cell_type": "code",
   "execution_count": 333,
   "metadata": {},
   "outputs": [
    {
     "name": "stderr",
     "output_type": "stream",
     "text": [
      "C:\\Users\\USER\\AppData\\Local\\Temp\\ipykernel_9732\\2203723095.py:2: FutureWarning: DataFrame.mean and DataFrame.median with numeric_only=None will include datetime64 and datetime64tz columns in a future version.\n",
      "  df1.mean().round(2)\n",
      "C:\\Users\\USER\\AppData\\Local\\Temp\\ipykernel_9732\\2203723095.py:2: FutureWarning: Dropping of nuisance columns in DataFrame reductions (with 'numeric_only=None') is deprecated; in a future version this will raise TypeError.  Select only valid columns before calling the reduction.\n",
      "  df1.mean().round(2)\n"
     ]
    },
    {
     "data": {
      "text/plain": [
       "ex_rates    14485.5\n",
       "dtype: float64"
      ]
     },
     "execution_count": 333,
     "metadata": {},
     "output_type": "execute_result"
    }
   ],
   "source": [
    "#display average exchange rates all data\n",
    "df1.mean().round(2)"
   ]
  },
  {
   "cell_type": "code",
   "execution_count": 334,
   "metadata": {
    "scrolled": true
   },
   "outputs": [
    {
     "data": {
      "text/html": [
       "<div>\n",
       "<style scoped>\n",
       "    .dataframe tbody tr th:only-of-type {\n",
       "        vertical-align: middle;\n",
       "    }\n",
       "\n",
       "    .dataframe tbody tr th {\n",
       "        vertical-align: top;\n",
       "    }\n",
       "\n",
       "    .dataframe thead th {\n",
       "        text-align: right;\n",
       "    }\n",
       "</style>\n",
       "<table border=\"1\" class=\"dataframe\">\n",
       "  <thead>\n",
       "    <tr style=\"text-align: right;\">\n",
       "      <th></th>\n",
       "      <th>day</th>\n",
       "      <th>ex_rates</th>\n",
       "      <th>period</th>\n",
       "    </tr>\n",
       "    <tr>\n",
       "      <th>date</th>\n",
       "      <th></th>\n",
       "      <th></th>\n",
       "      <th></th>\n",
       "    </tr>\n",
       "  </thead>\n",
       "  <tbody>\n",
       "    <tr>\n",
       "      <th>2022-07-05</th>\n",
       "      <td>Tuesday</td>\n",
       "      <td>15014.65</td>\n",
       "      <td>July</td>\n",
       "    </tr>\n",
       "    <tr>\n",
       "      <th>2022-06-30</th>\n",
       "      <td>Thursday</td>\n",
       "      <td>14928.80</td>\n",
       "      <td>June</td>\n",
       "    </tr>\n",
       "    <tr>\n",
       "      <th>2022-05-18</th>\n",
       "      <td>Wednesday</td>\n",
       "      <td>14740.05</td>\n",
       "      <td>May</td>\n",
       "    </tr>\n",
       "    <tr>\n",
       "      <th>2022-04-29</th>\n",
       "      <td>Friday</td>\n",
       "      <td>14525.10</td>\n",
       "      <td>April</td>\n",
       "    </tr>\n",
       "    <tr>\n",
       "      <th>2022-03-01</th>\n",
       "      <td>Tuesday</td>\n",
       "      <td>14429.84</td>\n",
       "      <td>March</td>\n",
       "    </tr>\n",
       "    <tr>\n",
       "      <th>2022-02-24</th>\n",
       "      <td>Thursday</td>\n",
       "      <td>14421.45</td>\n",
       "      <td>February</td>\n",
       "    </tr>\n",
       "    <tr>\n",
       "      <th>2022-01-27</th>\n",
       "      <td>Thursday</td>\n",
       "      <td>14395.00</td>\n",
       "      <td>January</td>\n",
       "    </tr>\n",
       "  </tbody>\n",
       "</table>\n",
       "</div>"
      ],
      "text/plain": [
       "                  day  ex_rates    period\n",
       "date                                     \n",
       "2022-07-05    Tuesday  15014.65      July\n",
       "2022-06-30   Thursday  14928.80      June\n",
       "2022-05-18  Wednesday  14740.05       May\n",
       "2022-04-29     Friday  14525.10     April\n",
       "2022-03-01    Tuesday  14429.84     March\n",
       "2022-02-24   Thursday  14421.45  February\n",
       "2022-01-27   Thursday  14395.00   January"
      ]
     },
     "execution_count": 334,
     "metadata": {},
     "output_type": "execute_result"
    }
   ],
   "source": [
    "#Display the highest exchange rates \n",
    "df1_max = df1.loc[df1.groupby(df.index.month)['ex_rates'].idxmax().values].set_index('date').\\\n",
    "            sort_values(by ='ex_rates', ascending=False).round(2)\n",
    "df1_max"
   ]
  },
  {
   "cell_type": "code",
   "execution_count": 335,
   "metadata": {
    "scrolled": true
   },
   "outputs": [
    {
     "data": {
      "text/plain": [
       "<AxesSubplot:xlabel='date'>"
      ]
     },
     "execution_count": 335,
     "metadata": {},
     "output_type": "execute_result"
    },
    {
     "data": {
      "image/png": "[encoded data removed]",
      "text/plain": [
       "<Figure size 432x288 with 1 Axes>"
      ]
     },
     "metadata": {
      "needs_background": "light"
     },
     "output_type": "display_data"
    }
   ],
   "source": [
    "df1_max.plot()"
   ]
  },
  {
   "cell_type": "code",
   "execution_count": 336,
   "metadata": {
    "scrolled": true
   },
   "outputs": [
    {
     "data": {
      "text/html": [
       "<div>\n",
       "<style scoped>\n",
       "    .dataframe tbody tr th:only-of-type {\n",
       "        vertical-align: middle;\n",
       "    }\n",
       "\n",
       "    .dataframe tbody tr th {\n",
       "        vertical-align: top;\n",
       "    }\n",
       "\n",
       "    .dataframe thead th {\n",
       "        text-align: right;\n",
       "    }\n",
       "</style>\n",
       "<table border=\"1\" class=\"dataframe\">\n",
       "  <thead>\n",
       "    <tr style=\"text-align: right;\">\n",
       "      <th></th>\n",
       "      <th>day</th>\n",
       "      <th>ex_rates</th>\n",
       "      <th>period</th>\n",
       "    </tr>\n",
       "    <tr>\n",
       "      <th>date</th>\n",
       "      <th></th>\n",
       "      <th></th>\n",
       "      <th></th>\n",
       "    </tr>\n",
       "  </thead>\n",
       "  <tbody>\n",
       "    <tr>\n",
       "      <th>2022-03-09</th>\n",
       "      <td>Wednesday</td>\n",
       "      <td>14257.95</td>\n",
       "      <td>March</td>\n",
       "    </tr>\n",
       "    <tr>\n",
       "      <th>2022-02-15</th>\n",
       "      <td>Tuesday</td>\n",
       "      <td>14265.45</td>\n",
       "      <td>February</td>\n",
       "    </tr>\n",
       "    <tr>\n",
       "      <th>2022-01-11</th>\n",
       "      <td>Tuesday</td>\n",
       "      <td>14284.47</td>\n",
       "      <td>January</td>\n",
       "    </tr>\n",
       "    <tr>\n",
       "      <th>2022-04-04</th>\n",
       "      <td>Monday</td>\n",
       "      <td>14328.90</td>\n",
       "      <td>April</td>\n",
       "    </tr>\n",
       "    <tr>\n",
       "      <th>2022-05-04</th>\n",
       "      <td>Wednesday</td>\n",
       "      <td>14430.00</td>\n",
       "      <td>May</td>\n",
       "    </tr>\n",
       "    <tr>\n",
       "      <th>2022-06-03</th>\n",
       "      <td>Friday</td>\n",
       "      <td>14433.50</td>\n",
       "      <td>June</td>\n",
       "    </tr>\n",
       "    <tr>\n",
       "      <th>2022-07-07</th>\n",
       "      <td>Thursday</td>\n",
       "      <td>14964.65</td>\n",
       "      <td>July</td>\n",
       "    </tr>\n",
       "  </tbody>\n",
       "</table>\n",
       "</div>"
      ],
      "text/plain": [
       "                  day  ex_rates    period\n",
       "date                                     \n",
       "2022-03-09  Wednesday  14257.95     March\n",
       "2022-02-15    Tuesday  14265.45  February\n",
       "2022-01-11    Tuesday  14284.47   January\n",
       "2022-04-04     Monday  14328.90     April\n",
       "2022-05-04  Wednesday  14430.00       May\n",
       "2022-06-03     Friday  14433.50      June\n",
       "2022-07-07   Thursday  14964.65      July"
      ]
     },
     "execution_count": 336,
     "metadata": {},
     "output_type": "execute_result"
    }
   ],
   "source": [
    "#display the lowest exchange rates\n",
    "df1_min = df1.loc[df1.groupby(df.index.month)['ex_rates'].idxmin().values].set_index('date').\\\n",
    "            sort_values(by ='ex_rates', ascending = True).round(2)\n",
    "df1_min"
   ]
  },
  {
   "cell_type": "code",
   "execution_count": 337,
   "metadata": {
    "scrolled": false
   },
   "outputs": [
    {
     "data": {
      "text/plain": [
       "<AxesSubplot:xlabel='date'>"
      ]
     },
     "execution_count": 337,
     "metadata": {},
     "output_type": "execute_result"
    },
    {
     "data": {
      "image/png": "[encoded data removed]",
      "text/plain": [
       "<Figure size 432x288 with 1 Axes>"
      ]
     },
     "metadata": {
      "needs_background": "light"
     },
     "output_type": "display_data"
    }
   ],
   "source": [
    "df1_min.plot()"
   ]
  },
  {
   "cell_type": "markdown",
   "metadata": {},
   "source": [
    "## Conclusion\n",
    "\n",
    "From the datas and charts that we have obtained previously, the conclusion can be drawn as follow:\n",
    "\n",
    "<img src=\"asset/image1.png\">\n",
    "\n",
    "1. The exchange rate of the Rupiah against the USD in January to March fluctuated in the range of Rp. 14,300 to Rp. 14,400.\n",
    "2. From April to mid-May, the Rupiah tends to depreciate to close to Rp. 14,800. \n",
    "3. At the end of May to early June the Rupiah had experienced a strengthening, but weakened again to its highest peak in July which reached the range of Rp. 15,000,-\n",
    "3. The average exchange rate of Rupiah against USD for the period of January 10 to July 8 was recorded at Rp. 14,485.5 with the highest average exchange rate in July of Rp. 14,987.13 and the lowest exchange rate in January of Rp. 14,335.80\n",
    "4. The highest exchange rate of Rupiah against USD was recorded on Tuesday, July 5, 2022 at Rp. 15,014.65, while the lowest exchange rate was recorded on Wednesday, March 9, 2022, at Rp. 14,257.95.\n"
   ]
  },
  {
   "cell_type": "markdown",
   "metadata": {},
   "source": [
    "### Extra Challange\n",
    "\n",
    "This will be not included to the scoring. \n",
    "\n",
    "- You can create additional analysis from the data.\n",
    "- Implement it to the dashboard with at `app.py` dan `index.html`."
   ]
  }
 ],
 "metadata": {
  "kernelspec": {
   "display_name": "capStone_spartaDA",
   "language": "python",
   "name": "capstone_spartada"
  },
  "language_info": {
   "codemirror_mode": {
    "name": "ipython",
    "version": 3
   },
   "file_extension": ".py",
   "mimetype": "text/x-python",
   "name": "python",
   "nbconvert_exporter": "python",
   "pygments_lexer": "ipython3",
   "version": "3.8.13"
  }
 },
 "nbformat": 4,
 "nbformat_minor": 2
}
